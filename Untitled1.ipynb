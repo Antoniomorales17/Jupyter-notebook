{
  "metadata": {
    "kernelspec": {
      "name": "python",
      "display_name": "Python (Pyodide)",
      "language": "python"
    },
    "language_info": {
      "codemirror_mode": {
        "name": "python",
        "version": 3
      },
      "file_extension": ".py",
      "mimetype": "text/x-python",
      "name": "python",
      "nbconvert_exporter": "python",
      "pygments_lexer": "ipython3",
      "version": "3.8"
    }
  },
  "nbformat_minor": 4,
  "nbformat": 4,
  "cells": [
    {
      "cell_type": "markdown",
      "source": "# Título del Cuaderno\n\n## Introducción\nEn este cuaderno exploraremos diversas herramientas y conceptos de la ciencia de datos.\n\n    \n## Lenguajes de Ciencia de Datos\n1. Python\n2. R\n3. SQL\n4. Julia\n5. Scala\n\n\n## Bibliotecas de Ciencia de Datos\n1. NumPy\n2. Pandas\n3. Matplotlib\n4. Scikit-learn\n5. TensorFlow\n\n\n## Herramientas de Ciencia de Datos\n\n| Herramienta        | Descripción                          |\n|--------------------|--------------------------------------|\n| Jupyter Notebooks  | Entorno interactivo de cuadernos     |\n| RStudio            | Entorno de desarrollo para R         |\n| Apache Spark       | Motor de análisis de datos           |\n| TensorFlow         | Biblioteca de aprendizaje automático |\n| Tableau            | Herramienta de visualización de datos|\n\n\n## Ejemplos de Expresiones Aritméticas\nEn Python, podemos realizar varias operaciones aritméticas como suma, resta, multiplicación y división.\n\n# Ejemplo de multiplicación y suma\na = 5\nb = 10\nmultiplicacion = a * b\nsuma = a + b\nmultiplicacion, suma\n\n# Convertir minutos en horas\nminutos = 150\nhoras = minutos / 60\nhoras\n\n\n# Lista de objetivos\nobjetivos = [\"Aprender Python\", \"Entender conceptos de ciencia de datos\", \"Aplicar técnicas de análisis de datos\"]\nfor objetivo in objetivos:\n    print(objetivo)\n\n## Autor\nNombre del Autor: [Antonio Morales Gimenez]\n\n",
      "metadata": {}
    },
    {
      "cell_type": "markdown",
      "source": "",
      "metadata": {}
    }
  ]
}